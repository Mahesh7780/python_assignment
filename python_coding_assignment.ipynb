{
 "cells": [
  {
   "cell_type": "markdown",
   "metadata": {},
   "source": [
    "# Python Programming Assignment for Certification  \n",
    "\n",
    "## Overview  \n",
    "This assignment consists of 15 coding exercises designed to test and strengthen my understanding of Python programming. The exercises are divided into three sections:  \n",
    "\n",
    "- **Section 1: Python Operators and Control Structures** – Covers loops, conditionals, and basic operations.  \n",
    "- **Section 2: Lists and Dictionaries** – Focuses on working with data structures.  \n",
    "- **Section 3: Advanced Topics** – Explores recursion, generators, and mathematical operations.  \n",
    "\n",
    "The goal of this assignment is to enhance my ability to apply Python concepts in practical scenarios. I will write and document solutions using Jupyter Notebook, ensuring clarity and readability.  \n"
   ]
  },
  {
   "cell_type": "markdown",
   "metadata": {},
   "source": [
    "### Section 1: Operators and Control Structures."
   ]
  },
  {
   "cell_type": "markdown",
   "metadata": {},
   "source": [
    "#### Question 1: Write a Python program to calculate the sum of all numbers in a list using a for loop.\n",
    "```\n",
    "Sample Input: 1 2 3 4 5\n",
    "Sample Output: 15\n",
    "\n",
    "```"
   ]
  },
  {
   "cell_type": "code",
   "execution_count": 17,
   "metadata": {},
   "outputs": [
    {
     "name": "stdout",
     "output_type": "stream",
     "text": [
      "15\n"
     ]
    }
   ],
   "source": [
    "# List of numbers\n",
    "numbers = list(map(int, input(\"Enter numbers seperated by spaces: \").split()))\n",
    "\n",
    "total = 0\n",
    "\n",
    "for num in numbers:\n",
    "    total += num\n",
    "print(total)"
   ]
  },
  {
   "cell_type": "markdown",
   "metadata": {},
   "source": [
    "Explanation:\n",
    "* Initialize total = 0.\n",
    "* Loop through numbers and add each to total.\n",
    "* Print total after the loop."
   ]
  },
  {
   "cell_type": "markdown",
   "metadata": {},
   "source": [
    "#### Question 2: What is the output of the following code?\n",
    "```\n",
    "Sample Input:  x = 5, y = 2\n",
    "Sample Output: 25\n",
    "\n",
    "```"
   ]
  },
  {
   "cell_type": "code",
   "execution_count": 18,
   "metadata": {},
   "outputs": [
    {
     "name": "stdout",
     "output_type": "stream",
     "text": [
      "25\n"
     ]
    }
   ],
   "source": [
    "x = int(input(\"Enter the base number (x): \"))\n",
    "y = int(input(\"Enter the exponent (y): \"))\n",
    "print(x ** y)"
   ]
  },
  {
   "cell_type": "markdown",
   "metadata": {},
   "source": [
    "Why?\n",
    "* ** is the exponentiation operator in Python.\n",
    "* x ** y means x raised to the power of y (e.g., 5 ** 2 = 25)."
   ]
  },
  {
   "cell_type": "markdown",
   "metadata": {},
   "source": [
    "#### Question 3: Write a Python program to check if a number is a palindrome using a while loop.\n",
    "```\n",
    "Sample Input: 12321\n",
    "Sample Output: True\n",
    "\n",
    "```"
   ]
  },
  {
   "cell_type": "markdown",
   "metadata": {},
   "source": [
    "A palindrome is a number that remains the same when reversed.\n",
    "For example:\n",
    "\n",
    "12321 → Palindrome \n",
    "12345 → Not a Palindrome "
   ]
  },
  {
   "cell_type": "code",
   "execution_count": 19,
   "metadata": {},
   "outputs": [
    {
     "name": "stdout",
     "output_type": "stream",
     "text": [
      "True\n"
     ]
    }
   ],
   "source": [
    "def is_palindrome(num):\n",
    "    original = num\n",
    "    reversed_num = 0\n",
    "    temp = num\n",
    "    \n",
    "    while temp > 0:\n",
    "        digit = temp % 10\n",
    "        reversed_num = reversed_num * 10 + digit\n",
    "        temp //= 10\n",
    "        \n",
    "    return original == reversed_num \n",
    "num = int(input(\"Enter a number: \"))\n",
    "print(is_palindrome(num))"
   ]
  },
  {
   "cell_type": "markdown",
   "metadata": {},
   "source": [
    "Explanation:\n",
    "* Use % to extract digits one by one.\n",
    "* Build the reversed number by multiplying the current result by 10 and adding the digit.\n",
    "* Compare the original and reversed numbers.\n",
    "* If they match, it's a palindrome; otherwise, it's not."
   ]
  },
  {
   "cell_type": "markdown",
   "metadata": {},
   "source": [
    "#### Question 4: What is the output of the following code?\n",
    "\n",
    "<pre>fruits = ['apple', 'banana', 'cherry']\n",
    "print(fruits[-1])</pre>\n"
   ]
  },
  {
   "cell_type": "code",
   "execution_count": 20,
   "metadata": {},
   "outputs": [
    {
     "name": "stdout",
     "output_type": "stream",
     "text": [
      "cherry\n"
     ]
    }
   ],
   "source": [
    "fruit = ['apple', 'banana', 'cherry']\n",
    "print(fruit[-1])"
   ]
  },
  {
   "cell_type": "markdown",
   "metadata": {},
   "source": [
    "Why?\n",
    "* Negative indexing in Python accesses elements from the end of a list.\n",
    "* fruits[-1] gets the last item.\n",
    "* In ['apple', 'banana', 'cherry'], fruits[-1] returns 'cherry'."
   ]
  },
  {
   "cell_type": "markdown",
   "metadata": {},
   "source": [
    "#### Question 5: Write a Python program to calculate the average of all numbers in a list using a for loop.\n",
    "```\n",
    "Sample Input: 1 2 3 4 5\n",
    "Sample Output: 3.0\n",
    "\n",
    "```"
   ]
  },
  {
   "cell_type": "code",
   "execution_count": 21,
   "metadata": {},
   "outputs": [
    {
     "name": "stdout",
     "output_type": "stream",
     "text": [
      "3.0\n"
     ]
    }
   ],
   "source": [
    "numbers = list(map(float, input(\"Enter numbers seperated by spaces: \").split()))\n",
    "total = 0\n",
    "for num in numbers:\n",
    "    total += num\n",
    "    \n",
    "average = total / len(numbers)\n",
    "print(average)"
   ]
  },
  {
   "cell_type": "markdown",
   "metadata": {},
   "source": [
    "Explanation:\n",
    "* Set total = 0 to store the sum.\n",
    "* Loop through numbers, adding each to total.\n",
    "* Compute the average as total / len(numbers).\n",
    "* Print the result."
   ]
  },
  {
   "cell_type": "markdown",
   "metadata": {},
   "source": [
    "### Section 2: Lists & Dictionaries."
   ]
  },
  {
   "cell_type": "markdown",
   "metadata": {},
   "source": [
    "#### Question 6: Write a Python program to create a dictionary with student names as keys and their grades as values.\n",
    "```\n",
    "Sample Input: Students = John, Alice, Bob\n",
    "              Grades = 90, 85, 95\n",
    "Sample Output: {'John': 90, ' Alice': 85, ' Bob': 95}\n",
    "\n",
    "```"
   ]
  },
  {
   "cell_type": "code",
   "execution_count": 9,
   "metadata": {},
   "outputs": [
    {
     "name": "stdout",
     "output_type": "stream",
     "text": [
      "{'John': 90, ' Alice': 85, ' Bob': 95}\n"
     ]
    }
   ],
   "source": [
    "students = input(\"Enter student names seperated by commas: \").split(',')\n",
    "grades = list(map(int, input(\"Enter grades seperated by commas: \").split(',')))\n",
    "student_dict = dict(zip(students, grades))\n",
    "print(student_dict)"
   ]
  },
  {
   "cell_type": "markdown",
   "metadata": {},
   "source": [
    "Explanation:\n",
    "* zip(students, grades) pairs each student with their grade.\n",
    "* dict(zip(...)) converts these pairs into a dictionary.\n",
    "* The result has student names as keys and grades as values.\n",
    "\n",
    "\n",
    "\n",
    "\n",
    "\n",
    "\n"
   ]
  },
  {
   "cell_type": "markdown",
   "metadata": {},
   "source": [
    "#### Question 7: What is the output of the following code?\n",
    "<pre>numbers = [1, 2, 3, 4, 5]\n",
    "print(numbers[1:3])</pre>\n"
   ]
  },
  {
   "cell_type": "code",
   "execution_count": 22,
   "metadata": {},
   "outputs": [
    {
     "name": "stdout",
     "output_type": "stream",
     "text": [
      "[2, 3]\n"
     ]
    }
   ],
   "source": [
    "numbers = [1, 2, 3, 4, 5]\n",
    "print(numbers[1:3])"
   ]
  },
  {
   "cell_type": "markdown",
   "metadata": {},
   "source": [
    "Why?\n",
    "* List slicing extracts a part of a list.\n",
    "* numbers[1:3] starts at index 1 (2) and stops before index 3 (4).\n",
    "* The result is [2, 3]."
   ]
  },
  {
   "cell_type": "markdown",
   "metadata": {},
   "source": [
    "#### Question 8: Write a Python program to sort a list of numbers in ascending order using the sorted() function.\n",
    "```\n",
    " Sample Input: numbers = [4, 2, 9, 6, 5]\n",
    " Sample Output: [2, 4, 5, 6, 9]\n",
    "```"
   ]
  },
  {
   "cell_type": "code",
   "execution_count": 11,
   "metadata": {},
   "outputs": [
    {
     "name": "stdout",
     "output_type": "stream",
     "text": [
      "[2, 4, 5, 6, 9]\n"
     ]
    }
   ],
   "source": [
    "numbers = list(map(int, input(\"Enter numbers seperated by spaces: \").split()))\n",
    "sorted_numbers = sorted(numbers)\n",
    "print(sorted_numbers)"
   ]
  },
  {
   "cell_type": "markdown",
   "metadata": {},
   "source": [
    "Explanation:\n",
    "* sorted() returns a new sorted list without changing the original.\n",
    "* sorted(numbers) arranges numbers in ascending order.\n",
    "* The result is stored in sorted_numbers and printed."
   ]
  },
  {
   "cell_type": "markdown",
   "metadata": {},
   "source": [
    "#### Question 9: What is the output of the following code?\n",
    "<pre>fruits = {'apple': 5, 'banana': 10, 'cherry': 15} \n",
    "print(fruits.get('banana'))</pre>\n"
   ]
  },
  {
   "cell_type": "code",
   "execution_count": 23,
   "metadata": {},
   "outputs": [
    {
     "name": "stdout",
     "output_type": "stream",
     "text": [
      "10\n"
     ]
    }
   ],
   "source": [
    "fruits = {'apple' : 5, 'banana': 10, 'cherry' : 15}\n",
    "print(fruits.get('banana'))"
   ]
  },
  {
   "cell_type": "markdown",
   "metadata": {},
   "source": [
    "Why?\n",
    "* Dictionaries store key-value pairs in Python.\n",
    "* .get('banana') fetches the value for 'banana'.\n",
    "* Since 'banana' exists, it returns 10."
   ]
  },
  {
   "cell_type": "markdown",
   "metadata": {},
   "source": [
    "#### Question 10: Write a Python program to create a list of squares of all numbers from 1 to 10 using a list comprehension.\n",
    "```\n",
    "Sample Input: Start = 1\n",
    "              End = 10\n",
    "Sample Output: Squares:  [1, 4, 9, 16, 25, 36, 49, 64, 81, 100]\n",
    "\n",
    "```"
   ]
  },
  {
   "cell_type": "code",
   "execution_count": 24,
   "metadata": {},
   "outputs": [
    {
     "name": "stdout",
     "output_type": "stream",
     "text": [
      "Squares:  [1, 4, 9, 16, 25, 36, 49, 64, 81, 100]\n"
     ]
    }
   ],
   "source": [
    "start = int(input(\"Enter the start number: \"))\n",
    "end = int(input(\"Enter the end number: \"))\n",
    "squares = [x ** 2 for x in range(start, end + 1)]\n",
    "print(\"Squares: \", squares)"
   ]
  },
  {
   "cell_type": "markdown",
   "metadata": {},
   "source": [
    "Explanation:\n",
    "* List comprehension [x**2 for x in range(1, 11)] creates a list of squares.\n",
    "* range(1, 11) iterates from 1 to 10.\n",
    "* Each x is squared (x**2) and stored in the list."
   ]
  },
  {
   "cell_type": "markdown",
   "metadata": {},
   "source": [
    "### Section 3: Advanced Topics."
   ]
  },
  {
   "cell_type": "markdown",
   "metadata": {},
   "source": [
    "#### Question 11: Write a Python program to calculate the factorial of a number using recursion.\n",
    "```\n",
    "Sample Input: n = 5\n",
    "Sample Output: 120\n",
    "```"
   ]
  },
  {
   "cell_type": "code",
   "execution_count": 25,
   "metadata": {},
   "outputs": [
    {
     "name": "stdout",
     "output_type": "stream",
     "text": [
      "Factorial of 5 is: 120\n"
     ]
    }
   ],
   "source": [
    "def factorial(n):\n",
    "    if n == 0 or n == 1:\n",
    "        return 1\n",
    "    else:\n",
    "        return n * factorial(n - 1)\n",
    "    \n",
    "num = int(input(\"Enter a number: \"))\n",
    "if num < 0:\n",
    "    print(\"Factorial is not defined for negative numbers.\")\n",
    "else:\n",
    "    print(f\"Factorial of {num} is: {factorial(num)}\")"
   ]
  },
  {
   "cell_type": "markdown",
   "metadata": {},
   "source": [
    "Explanation:\n",
    "* Base case: If n == 0 or n == 1, return 1 (since 0! = 1! = 1).\n",
    "* Recursive case: Multiply n by factorial(n - 1) until reaching the base case.\n",
    "* Example (n = 5):\n",
    "factorial(5) = 5 * factorial(4)\n",
    "factorial(4) = 4 * factorial(3)\n",
    "factorial(3) = 3 * factorial(2)\n",
    "factorial(2) = 2 * factorial(1)\n",
    "factorial(1) = 1 (Base case)\n",
    "The result: 5 * 4 * 3 * 2 * 1 = 120."
   ]
  },
  {
   "cell_type": "markdown",
   "metadata": {},
   "source": [
    "#### Question 12: What is the output of the following code?\n",
    "<pre>numbers = [1, 2, 3, 4, 5]\n",
    "print(list(reversed(numbers)))\n",
    "</pre>"
   ]
  },
  {
   "cell_type": "code",
   "execution_count": 28,
   "metadata": {},
   "outputs": [
    {
     "name": "stdout",
     "output_type": "stream",
     "text": [
      "[5, 4, 3, 2, 1]\n"
     ]
    }
   ],
   "source": [
    "numbers = [1, 2, 3, 4, 5]\n",
    "print(list(reversed(numbers)))"
   ]
  },
  {
   "cell_type": "markdown",
   "metadata": {},
   "source": [
    "Why?\n",
    "* reversed() creates an iterator that goes through the list backward.\n",
    "* list(reversed(numbers)) converts it into a reversed list.\n",
    "* [1, 2, 3, 4, 5] becomes [5, 4, 3, 2, 1]."
   ]
  },
  {
   "cell_type": "markdown",
   "metadata": {},
   "source": [
    "#### Question 13: Write a Python program to create a generator that yields the Fibonacci sequence up to the nth term.\n",
    "```\n",
    "Sample Input: n = 10\n",
    "Sample Output: [0, 1, 1, 2, 3, 5, 8, 13, 21, 34]\n",
    "```"
   ]
  },
  {
   "cell_type": "code",
   "execution_count": 26,
   "metadata": {},
   "outputs": [
    {
     "name": "stdout",
     "output_type": "stream",
     "text": [
      "[0, 1, 1, 2, 3, 5, 8, 13, 21, 34]\n"
     ]
    }
   ],
   "source": [
    "def fibonacci_generator(n):\n",
    "    a, b = 0, 1\n",
    "    for _ in range(n):\n",
    "        yield a\n",
    "        a, b = b, a + b\n",
    "        \n",
    "n = int(input(\"Enter the number of Fibonacci terms: \"))\n",
    "if n < 0:\n",
    "    print(\"Please enter a non-negative numbers.\")\n",
    "else:\n",
    "   print(list(fibonacci_generator(n)))"
   ]
  },
  {
   "cell_type": "markdown",
   "metadata": {},
   "source": [
    "Explanation of Code Execution:\n",
    "\n",
    "* yield a returns the current Fibonacci number and pauses execution.\n",
    "* a, b = b, a + b updates values to the next Fibonacci number.\n",
    "* The loop runs n times, generating n Fibonacci numbers."
   ]
  },
  {
   "cell_type": "markdown",
   "metadata": {},
   "source": [
    "#### Question 14: What is the output of the following code?\n",
    "<pre>import math\n",
    "print(math.pi)\n",
    "</pre>"
   ]
  },
  {
   "cell_type": "code",
   "execution_count": 30,
   "metadata": {},
   "outputs": [
    {
     "name": "stdout",
     "output_type": "stream",
     "text": [
      "3.141592653589793\n"
     ]
    }
   ],
   "source": [
    "import math\n",
    "print(math.pi)"
   ]
  },
  {
   "cell_type": "markdown",
   "metadata": {},
   "source": [
    "Why?\n",
    "* The math module offers mathematical functions and constants.\n",
    "* math.pi gives the constant π (≈ 3.14159).\n",
    "* It's widely used in geometry and trigonometry."
   ]
  },
  {
   "cell_type": "markdown",
   "metadata": {},
   "source": [
    "#### Question 15: Write a Python program to print an inverted star pyramid of height 5.\n",
    "<pre>*********\n",
    " *******\n",
    "  *****\n",
    "   ***\n",
    "    *\n",
    "</pre>"
   ]
  },
  {
   "cell_type": "code",
   "execution_count": 31,
   "metadata": {},
   "outputs": [
    {
     "name": "stdout",
     "output_type": "stream",
     "text": [
      "*********\n",
      " *******\n",
      "  *****\n",
      "   ***\n",
      "    *\n"
     ]
    }
   ],
   "source": [
    "def inverted_pyramid(height):\n",
    "    for i in range(height, 0, -1):\n",
    "        spaces = ' ' * (height - i)\n",
    "        stars = '*' * (2 * i -1)\n",
    "        print(spaces + stars)\n",
    "        \n",
    "height = 5\n",
    "inverted_pyramid(height)"
   ]
  },
  {
   "cell_type": "markdown",
   "metadata": {},
   "source": [
    "* Explanation:\n",
    "* 1.Loop from height down to 1 (`range(height, 0, -1)`)\n",
    "   - Starts at `height = 5`, decreases to `1`.\n",
    "\n",
    "* 2.Calculate spaces (`' ' * (height - i)`)\n",
    "   - Number of spaces increases as `i` decreases.\n",
    "   - Example:\n",
    "     ```\n",
    "     Row 1: 0 spaces\n",
    "     Row 2: 1 space\n",
    "     Row 3: 2 spaces\n",
    "     Row 4: 3 spaces\n",
    "     Row 5: 4 spaces\n",
    "     ```\n",
    "\n",
    "* 3.Calculate stars (`'*' * (2 * i - 1)`)\n",
    "   - Number of stars follows the pattern:\n",
    "     ```\n",
    "     Row 1: 9 stars\n",
    "     Row 2: 7 stars\n",
    "     Row 3: 5 stars\n",
    "     Row 4: 3 stars\n",
    "     Row 5: 1 star\n",
    "     ```\n",
    "```"
   ]
  },
  {
   "cell_type": "markdown",
   "metadata": {},
   "source": [
    "```\n",
    "* 4.Print `spaces + stars` to form the pyramid shape.\n",
    "\n",
    "  Final Output:\n",
    "    \n",
    "```\n",
    "<pre>*********\n",
    " *******\n",
    "  *****\n",
    "   ***\n",
    "    *</pre>\n",
    "```\n",
    "```"
   ]
  }
 ],
 "metadata": {
  "kernelspec": {
   "display_name": "Python 3 (ipykernel)",
   "language": "python",
   "name": "python3"
  },
  "language_info": {
   "codemirror_mode": {
    "name": "ipython",
    "version": 3
   },
   "file_extension": ".py",
   "mimetype": "text/x-python",
   "name": "python",
   "nbconvert_exporter": "python",
   "pygments_lexer": "ipython3",
   "version": "3.13.2"
  }
 },
 "nbformat": 4,
 "nbformat_minor": 4
}
